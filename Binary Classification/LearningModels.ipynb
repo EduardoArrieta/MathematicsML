{
  "nbformat": 4,
  "nbformat_minor": 0,
  "metadata": {
    "colab": {
      "provenance": []
    },
    "kernelspec": {
      "name": "python3",
      "display_name": "Python 3"
    },
    "language_info": {
      "name": "python"
    }
  },
  "cells": [
    {
      "cell_type": "markdown",
      "source": [
        "# Librerías"
      ],
      "metadata": {
        "id": "vG8PVz8M7MA0"
      }
    },
    {
      "cell_type": "code",
      "execution_count": null,
      "metadata": {
        "colab": {
          "base_uri": "https://localhost:8080/",
          "height": 17
        },
        "id": "kkWy6g9C42aj",
        "outputId": "98b6c239-481e-4d8c-f161-80325bb4f03b"
      },
      "outputs": [
        {
          "output_type": "display_data",
          "data": {
            "text/html": [
              "        <script type=\"text/javascript\">\n",
              "        window.PlotlyConfig = {MathJaxConfig: 'local'};\n",
              "        if (window.MathJax && window.MathJax.Hub && window.MathJax.Hub.Config) {window.MathJax.Hub.Config({SVG: {font: \"STIX-Web\"}});}\n",
              "        if (typeof require !== 'undefined') {\n",
              "        require.undef(\"plotly\");\n",
              "        requirejs.config({\n",
              "            paths: {\n",
              "                'plotly': ['https://cdn.plot.ly/plotly-2.18.2.min']\n",
              "            }\n",
              "        });\n",
              "        require(['plotly'], function(Plotly) {\n",
              "            window._Plotly = Plotly;\n",
              "        });\n",
              "        }\n",
              "        </script>\n",
              "        "
            ]
          },
          "metadata": {}
        },
        {
          "output_type": "display_data",
          "data": {
            "text/html": [
              "        <script type=\"text/javascript\">\n",
              "        window.PlotlyConfig = {MathJaxConfig: 'local'};\n",
              "        if (window.MathJax && window.MathJax.Hub && window.MathJax.Hub.Config) {window.MathJax.Hub.Config({SVG: {font: \"STIX-Web\"}});}\n",
              "        if (typeof require !== 'undefined') {\n",
              "        require.undef(\"plotly\");\n",
              "        requirejs.config({\n",
              "            paths: {\n",
              "                'plotly': ['https://cdn.plot.ly/plotly-2.18.2.min']\n",
              "            }\n",
              "        });\n",
              "        require(['plotly'], function(Plotly) {\n",
              "            window._Plotly = Plotly;\n",
              "        });\n",
              "        }\n",
              "        </script>\n",
              "        "
            ]
          },
          "metadata": {}
        }
      ],
      "source": [
        "# https://pythonprogramming.net/svm-optimization-python-2-machine-learning-tutorial/?completed=/svm-optimization-python-machine-learning-tutorial/\n",
        "\n",
        "# Numpy & pandas\n",
        "import numpy as np\n",
        "import pandas as pd\n",
        "import missingno as mn\n",
        "from random import sample\n",
        "from numpy.random import uniform\n",
        "from math import isnan\n",
        "\n",
        "# Matplotlib\n",
        "import matplotlib.pyplot as plt\n",
        "import matplotlib.style as style\n",
        "\n",
        "# Seaborn\n",
        "import seaborn as sns\n",
        "import matplotlib.cm as cm\n",
        "%matplotlib inline\n",
        "from matplotlib import rcParams\n",
        "\n",
        "\n",
        "# Plotly\n",
        "import plotly.express as px\n",
        "import plotly.graph_objects as go\n",
        "from plotly.tools import FigureFactory as FF\n",
        "from plotly import tools\n",
        "from plotly.colors import n_colors\n",
        "from plotly.subplots import make_subplots\n",
        "from plotly.offline import init_notebook_mode, iplot\n",
        "\n",
        "import cufflinks\n",
        "cufflinks.go_offline()\n",
        "cufflinks.set_config_file(world_readable=True, theme='pearl')\n",
        "\n",
        "from IPython.display import display, HTML\n",
        "init_notebook_mode(connected=True)\n",
        "\n",
        "# SciPy\n",
        "from scipy.cluster.hierarchy import linkage\n",
        "from scipy.cluster.hierarchy import dendrogram\n",
        "from scipy.cluster.hierarchy import cut_tree\n",
        "\n",
        "# SKLearn\n",
        "import sklearn\n",
        "from sklearn.preprocessing import StandardScaler\n",
        "from sklearn.cluster import KMeans\n",
        "from sklearn.metrics import silhouette_score\n",
        "from sklearn.neighbors import NearestNeighbors\n",
        "from sklearn.metrics import silhouette_samples, silhouette_score\n",
        "\n",
        "from sklearn.metrics import confusion_matrix\n",
        "from sklearn.metrics import accuracy_score\n",
        "from sklearn.model_selection import GridSearchCV\n",
        "from sklearn.metrics import f1_score, make_scorer\n",
        "from sklearn.metrics import recall_score\n",
        "from sklearn.metrics import precision_score\n",
        "from sklearn.model_selection import cross_val_score\n",
        "from sklearn.datasets import make_classification\n",
        "\n",
        "from sklearn.tree import DecisionTreeClassifier\n",
        "from sklearn.svm import SVC\n",
        "from sklearn.neighbors import KNeighborsClassifier\n",
        "from sklearn.linear_model import LogisticRegression\n",
        "\n",
        "from sklearn.model_selection import train_test_split\n",
        "from sklearn.preprocessing import StandardScaler\n",
        "\n",
        "from scipy.optimize import linprog\n",
        "from scipy.spatial import Delaunay"
      ]
    },
    {
      "cell_type": "markdown",
      "source": [
        "# Bank Notes"
      ],
      "metadata": {
        "id": "EaOBLKLbxqlD"
      }
    },
    {
      "cell_type": "markdown",
      "source": [
        "## Importing Data"
      ],
      "metadata": {
        "id": "HEu8-e578-s3"
      }
    },
    {
      "cell_type": "code",
      "source": [
        "#Save the dataset in such a way that we can call any feature\n",
        "bank_note = pd.read_csv(\"https://archive.ics.uci.edu/ml/machine-learning-databases/00267/data_banknote_authentication.txt\", \n",
        "                 sep = ',', \n",
        "                 header = None, \n",
        "                 names = ['variance', 'skewness', 'curtosis', 'entropy', 'class'],\n",
        "                 thousands = ',')\n",
        "\n",
        "print('Dimensionality of the Dataframe:', bank_note.shape)"
      ],
      "metadata": {
        "colab": {
          "base_uri": "https://localhost:8080/"
        },
        "id": "sWPlFIVP9B7k",
        "outputId": "d62b2b95-5383-40b9-b815-5406c11d1a55"
      },
      "execution_count": null,
      "outputs": [
        {
          "output_type": "stream",
          "name": "stdout",
          "text": [
            "Dimensionality of the Dataframe: (1372, 5)\n"
          ]
        }
      ]
    },
    {
      "cell_type": "markdown",
      "source": [
        "## Preprocessing"
      ],
      "metadata": {
        "id": "7TkjVtic7ntN"
      }
    },
    {
      "cell_type": "code",
      "source": [
        "np.random.seed(42)"
      ],
      "metadata": {
        "id": "ijL8oa03GjYe"
      },
      "execution_count": null,
      "outputs": []
    },
    {
      "cell_type": "code",
      "source": [
        "# Changing column names\n",
        "\n",
        "bank_note.columns = ['variance', 'skewness', 'curtosis', 'entropy', 'class']\n",
        "bank_note.head(10)"
      ],
      "metadata": {
        "colab": {
          "base_uri": "https://localhost:8080/",
          "height": 363
        },
        "id": "qk0nsAdK75Kh",
        "outputId": "8e8e0081-6ae6-448a-ea16-0fa226c936ca"
      },
      "execution_count": null,
      "outputs": [
        {
          "output_type": "execute_result",
          "data": {
            "text/plain": [
              "   variance  skewness  curtosis  entropy  class\n",
              "0   3.62160    8.6661  -2.80730 -0.44699      0\n",
              "1   4.54590    8.1674  -2.45860 -1.46210      0\n",
              "2   3.86600   -2.6383   1.92420  0.10645      0\n",
              "3   3.45660    9.5228  -4.01120 -3.59440      0\n",
              "4   0.32924   -4.4552   4.57180 -0.98880      0\n",
              "5   4.36840    9.6718  -3.96060 -3.16250      0\n",
              "6   3.59120    3.0129   0.72888  0.56421      0\n",
              "7   2.09220   -6.8100   8.46360 -0.60216      0\n",
              "8   3.20320    5.7588  -0.75345 -0.61251      0\n",
              "9   1.53560    9.1772  -2.27180 -0.73535      0"
            ],
            "text/html": [
              "\n",
              "  <div id=\"df-1b5e96cc-afbb-492d-b608-7deba413f583\">\n",
              "    <div class=\"colab-df-container\">\n",
              "      <div>\n",
              "<style scoped>\n",
              "    .dataframe tbody tr th:only-of-type {\n",
              "        vertical-align: middle;\n",
              "    }\n",
              "\n",
              "    .dataframe tbody tr th {\n",
              "        vertical-align: top;\n",
              "    }\n",
              "\n",
              "    .dataframe thead th {\n",
              "        text-align: right;\n",
              "    }\n",
              "</style>\n",
              "<table border=\"1\" class=\"dataframe\">\n",
              "  <thead>\n",
              "    <tr style=\"text-align: right;\">\n",
              "      <th></th>\n",
              "      <th>variance</th>\n",
              "      <th>skewness</th>\n",
              "      <th>curtosis</th>\n",
              "      <th>entropy</th>\n",
              "      <th>class</th>\n",
              "    </tr>\n",
              "  </thead>\n",
              "  <tbody>\n",
              "    <tr>\n",
              "      <th>0</th>\n",
              "      <td>3.62160</td>\n",
              "      <td>8.6661</td>\n",
              "      <td>-2.80730</td>\n",
              "      <td>-0.44699</td>\n",
              "      <td>0</td>\n",
              "    </tr>\n",
              "    <tr>\n",
              "      <th>1</th>\n",
              "      <td>4.54590</td>\n",
              "      <td>8.1674</td>\n",
              "      <td>-2.45860</td>\n",
              "      <td>-1.46210</td>\n",
              "      <td>0</td>\n",
              "    </tr>\n",
              "    <tr>\n",
              "      <th>2</th>\n",
              "      <td>3.86600</td>\n",
              "      <td>-2.6383</td>\n",
              "      <td>1.92420</td>\n",
              "      <td>0.10645</td>\n",
              "      <td>0</td>\n",
              "    </tr>\n",
              "    <tr>\n",
              "      <th>3</th>\n",
              "      <td>3.45660</td>\n",
              "      <td>9.5228</td>\n",
              "      <td>-4.01120</td>\n",
              "      <td>-3.59440</td>\n",
              "      <td>0</td>\n",
              "    </tr>\n",
              "    <tr>\n",
              "      <th>4</th>\n",
              "      <td>0.32924</td>\n",
              "      <td>-4.4552</td>\n",
              "      <td>4.57180</td>\n",
              "      <td>-0.98880</td>\n",
              "      <td>0</td>\n",
              "    </tr>\n",
              "    <tr>\n",
              "      <th>5</th>\n",
              "      <td>4.36840</td>\n",
              "      <td>9.6718</td>\n",
              "      <td>-3.96060</td>\n",
              "      <td>-3.16250</td>\n",
              "      <td>0</td>\n",
              "    </tr>\n",
              "    <tr>\n",
              "      <th>6</th>\n",
              "      <td>3.59120</td>\n",
              "      <td>3.0129</td>\n",
              "      <td>0.72888</td>\n",
              "      <td>0.56421</td>\n",
              "      <td>0</td>\n",
              "    </tr>\n",
              "    <tr>\n",
              "      <th>7</th>\n",
              "      <td>2.09220</td>\n",
              "      <td>-6.8100</td>\n",
              "      <td>8.46360</td>\n",
              "      <td>-0.60216</td>\n",
              "      <td>0</td>\n",
              "    </tr>\n",
              "    <tr>\n",
              "      <th>8</th>\n",
              "      <td>3.20320</td>\n",
              "      <td>5.7588</td>\n",
              "      <td>-0.75345</td>\n",
              "      <td>-0.61251</td>\n",
              "      <td>0</td>\n",
              "    </tr>\n",
              "    <tr>\n",
              "      <th>9</th>\n",
              "      <td>1.53560</td>\n",
              "      <td>9.1772</td>\n",
              "      <td>-2.27180</td>\n",
              "      <td>-0.73535</td>\n",
              "      <td>0</td>\n",
              "    </tr>\n",
              "  </tbody>\n",
              "</table>\n",
              "</div>\n",
              "      <button class=\"colab-df-convert\" onclick=\"convertToInteractive('df-1b5e96cc-afbb-492d-b608-7deba413f583')\"\n",
              "              title=\"Convert this dataframe to an interactive table.\"\n",
              "              style=\"display:none;\">\n",
              "        \n",
              "  <svg xmlns=\"http://www.w3.org/2000/svg\" height=\"24px\"viewBox=\"0 0 24 24\"\n",
              "       width=\"24px\">\n",
              "    <path d=\"M0 0h24v24H0V0z\" fill=\"none\"/>\n",
              "    <path d=\"M18.56 5.44l.94 2.06.94-2.06 2.06-.94-2.06-.94-.94-2.06-.94 2.06-2.06.94zm-11 1L8.5 8.5l.94-2.06 2.06-.94-2.06-.94L8.5 2.5l-.94 2.06-2.06.94zm10 10l.94 2.06.94-2.06 2.06-.94-2.06-.94-.94-2.06-.94 2.06-2.06.94z\"/><path d=\"M17.41 7.96l-1.37-1.37c-.4-.4-.92-.59-1.43-.59-.52 0-1.04.2-1.43.59L10.3 9.45l-7.72 7.72c-.78.78-.78 2.05 0 2.83L4 21.41c.39.39.9.59 1.41.59.51 0 1.02-.2 1.41-.59l7.78-7.78 2.81-2.81c.8-.78.8-2.07 0-2.86zM5.41 20L4 18.59l7.72-7.72 1.47 1.35L5.41 20z\"/>\n",
              "  </svg>\n",
              "      </button>\n",
              "      \n",
              "  <style>\n",
              "    .colab-df-container {\n",
              "      display:flex;\n",
              "      flex-wrap:wrap;\n",
              "      gap: 12px;\n",
              "    }\n",
              "\n",
              "    .colab-df-convert {\n",
              "      background-color: #E8F0FE;\n",
              "      border: none;\n",
              "      border-radius: 50%;\n",
              "      cursor: pointer;\n",
              "      display: none;\n",
              "      fill: #1967D2;\n",
              "      height: 32px;\n",
              "      padding: 0 0 0 0;\n",
              "      width: 32px;\n",
              "    }\n",
              "\n",
              "    .colab-df-convert:hover {\n",
              "      background-color: #E2EBFA;\n",
              "      box-shadow: 0px 1px 2px rgba(60, 64, 67, 0.3), 0px 1px 3px 1px rgba(60, 64, 67, 0.15);\n",
              "      fill: #174EA6;\n",
              "    }\n",
              "\n",
              "    [theme=dark] .colab-df-convert {\n",
              "      background-color: #3B4455;\n",
              "      fill: #D2E3FC;\n",
              "    }\n",
              "\n",
              "    [theme=dark] .colab-df-convert:hover {\n",
              "      background-color: #434B5C;\n",
              "      box-shadow: 0px 1px 3px 1px rgba(0, 0, 0, 0.15);\n",
              "      filter: drop-shadow(0px 1px 2px rgba(0, 0, 0, 0.3));\n",
              "      fill: #FFFFFF;\n",
              "    }\n",
              "  </style>\n",
              "\n",
              "      <script>\n",
              "        const buttonEl =\n",
              "          document.querySelector('#df-1b5e96cc-afbb-492d-b608-7deba413f583 button.colab-df-convert');\n",
              "        buttonEl.style.display =\n",
              "          google.colab.kernel.accessAllowed ? 'block' : 'none';\n",
              "\n",
              "        async function convertToInteractive(key) {\n",
              "          const element = document.querySelector('#df-1b5e96cc-afbb-492d-b608-7deba413f583');\n",
              "          const dataTable =\n",
              "            await google.colab.kernel.invokeFunction('convertToInteractive',\n",
              "                                                     [key], {});\n",
              "          if (!dataTable) return;\n",
              "\n",
              "          const docLinkHtml = 'Like what you see? Visit the ' +\n",
              "            '<a target=\"_blank\" href=https://colab.research.google.com/notebooks/data_table.ipynb>data table notebook</a>'\n",
              "            + ' to learn more about interactive tables.';\n",
              "          element.innerHTML = '';\n",
              "          dataTable['output_type'] = 'display_data';\n",
              "          await google.colab.output.renderOutput(dataTable, element);\n",
              "          const docLink = document.createElement('div');\n",
              "          docLink.innerHTML = docLinkHtml;\n",
              "          element.appendChild(docLink);\n",
              "        }\n",
              "      </script>\n",
              "    </div>\n",
              "  </div>\n",
              "  "
            ]
          },
          "metadata": {},
          "execution_count": 43
        }
      ]
    },
    {
      "cell_type": "code",
      "source": [
        "bank_note_target = bank_note['class']\n",
        "bank_note_X = bank_note.drop(['class'], axis = 1)"
      ],
      "metadata": {
        "id": "5BGqwESf9ZPr"
      },
      "execution_count": null,
      "outputs": []
    },
    {
      "cell_type": "markdown",
      "source": [
        "## Feature Scaling"
      ],
      "metadata": {
        "id": "I67zaSipC7si"
      }
    },
    {
      "cell_type": "code",
      "source": [
        "X_train_banknote, X_rem, y_train_banknote, y_rem = train_test_split(bank_note_X,bank_note_target, train_size=0.8)\n",
        "\n",
        "X_valid_banknote, X_test_banknote, y_valid_banknote, y_test_banknote = train_test_split(X_rem, y_rem, test_size=0.5)"
      ],
      "metadata": {
        "id": "wogGnrtuFWsD"
      },
      "execution_count": null,
      "outputs": []
    },
    {
      "cell_type": "code",
      "source": [
        "scaler_banknote = StandardScaler()\n",
        "banknote_transformed = scaler_banknote.fit_transform(X_train_banknote)\n",
        "banknote_transformed_test = scaler_banknote.transform(X_test_banknote)\n",
        "banknote_transformed_valid = scaler_banknote.transform(X_valid_banknote)"
      ],
      "metadata": {
        "id": "gPJLy5KOC6Ii"
      },
      "execution_count": null,
      "outputs": []
    },
    {
      "cell_type": "markdown",
      "source": [
        "## Hyperparameter Adjustment"
      ],
      "metadata": {
        "id": "tFrsSEQDBVmh"
      }
    },
    {
      "cell_type": "markdown",
      "source": [
        "### Logistic Regression"
      ],
      "metadata": {
        "id": "R4J7zT8qBoSc"
      }
    },
    {
      "cell_type": "code",
      "source": [
        "model_banknote_logistic = LogisticRegression(max_iter=10000)\n",
        "\n",
        "hyperparameters_grid_logistic = {'C': [0.001, 0.01, 0.1, 1, 10, 100, 1000,10000], \n",
        "              'penalty': ['l2','l1'],\n",
        "              'solver': ['liblinear', 'saga']}\n",
        "\n",
        "f1 = make_scorer(f1_score)\n",
        "\n",
        "grid_search_logistic = GridSearchCV(model_banknote_logistic, hyperparameters_grid_logistic, scoring=f1, cv=5)\n",
        "grid_search_logistic.fit(banknote_transformed, y_train_banknote)\n",
        "\n",
        "print(\"Best Hyperparameters: \", grid_search_logistic.best_params_)\n",
        "print(\"Best Accuracy: \", grid_search_logistic.best_score_)"
      ],
      "metadata": {
        "colab": {
          "base_uri": "https://localhost:8080/"
        },
        "id": "3NAlSliRBZD_",
        "outputId": "75375d0a-98ea-41aa-a485-5d360f8e6e72"
      },
      "execution_count": null,
      "outputs": [
        {
          "output_type": "stream",
          "name": "stdout",
          "text": [
            "Best Hyperparameters:  {'C': 100, 'penalty': 'l1', 'solver': 'liblinear'}\n",
            "Best Accuracy:  0.9916771803099673\n"
          ]
        }
      ]
    },
    {
      "cell_type": "markdown",
      "source": [
        "### SVM"
      ],
      "metadata": {
        "id": "Ct4FGo75G06i"
      }
    },
    {
      "cell_type": "code",
      "source": [
        "model_svm_banknote = SVC(max_iter=10000)\n",
        "\n",
        "hyperparameters_grid_svm = {'C': [0.01, 0.1, 1, 10, 100], \n",
        "              'kernel': ['rbf',],#'sigmoid','poly','linear'\n",
        "              'gamma': [0.1, 1, 10, 100]}\n",
        "\n",
        "grid_search_svm = GridSearchCV(model_svm_banknote, hyperparameters_grid_svm, cv=5, scoring=f1)\n",
        "\n",
        "grid_search_svm.fit(banknote_transformed, y_train_banknote)\n",
        "\n",
        "print(\"Best Hyperparameters: \", grid_search_svm.best_params_)\n",
        "print(\"Best Accuracy: \", grid_search_svm.best_score_)"
      ],
      "metadata": {
        "colab": {
          "base_uri": "https://localhost:8080/"
        },
        "id": "znYaKVzrG1-l",
        "outputId": "07e623a3-5632-4ccb-c788-326241ed5783"
      },
      "execution_count": null,
      "outputs": [
        {
          "output_type": "stream",
          "name": "stdout",
          "text": [
            "Best Hyperparameters:  {'C': 1, 'gamma': 10, 'kernel': 'rbf'}\n",
            "Best Accuracy:  1.0\n"
          ]
        }
      ]
    },
    {
      "cell_type": "markdown",
      "source": [
        "### KNN"
      ],
      "metadata": {
        "id": "fKtigKLsIErq"
      }
    },
    {
      "cell_type": "code",
      "source": [
        "knn_banknote = KNeighborsClassifier()\n",
        "\n",
        "hyperparameters_grid_knn = {'n_neighbors': [3, 5, 7, 9], \n",
        "              'weights': ['uniform', 'distance'],\n",
        "              'metric': ['euclidean', 'manhattan']\n",
        "              }\n",
        "\n",
        "knn_grid_search_banknote = GridSearchCV(knn_banknote, hyperparameters_grid_knn, cv=5, scoring=f1)\n",
        "\n",
        "knn_grid_search_banknote.fit(banknote_transformed, y_train_banknote)\n",
        "\n",
        "print(\"Best Hyperparameters: \", knn_grid_search_banknote.best_params_)\n",
        "print(\"Best Accuracy: \", knn_grid_search_banknote.best_score_)"
      ],
      "metadata": {
        "colab": {
          "base_uri": "https://localhost:8080/"
        },
        "id": "hvz0qyt6IFlC",
        "outputId": "b8a4eb17-b912-4403-9691-6f53b6ba17c0"
      },
      "execution_count": null,
      "outputs": [
        {
          "output_type": "stream",
          "name": "stdout",
          "text": [
            "Best Hyperparameters:  {'metric': 'euclidean', 'n_neighbors': 3, 'weights': 'uniform'}\n",
            "Best Accuracy:  0.9979380895443072\n"
          ]
        }
      ]
    },
    {
      "cell_type": "markdown",
      "source": [
        "### Decision Tree"
      ],
      "metadata": {
        "id": "urSoud83JW8_"
      }
    },
    {
      "cell_type": "code",
      "source": [
        "dt_banknote = DecisionTreeClassifier()\n",
        "\n",
        "hyperparameters_grid_dt = {'max_depth': [5, 10, 15, 20], \n",
        "              'min_samples_split': [2, 5, 10, 15, 20]}\n",
        "\n",
        "dt_grid_search_banknote = GridSearchCV(dt_banknote, hyperparameters_grid_dt, cv=5, scoring=f1)\n",
        "\n",
        "dt_grid_search_banknote.fit(banknote_transformed, y_train_banknote)\n",
        "\n",
        "print(\"Best Hyperparameters: \", dt_grid_search_banknote.best_params_)\n",
        "print(\"Best Accuracy: \", dt_grid_search_banknote.best_score_)"
      ],
      "metadata": {
        "colab": {
          "base_uri": "https://localhost:8080/"
        },
        "id": "RUBP2x1PJbQu",
        "outputId": "95ac69cb-07b9-44a4-f970-cd4d8db6f81d"
      },
      "execution_count": null,
      "outputs": [
        {
          "output_type": "stream",
          "name": "stdout",
          "text": [
            "Best Hyperparameters:  {'max_depth': 10, 'min_samples_split': 2}\n",
            "Best Accuracy:  0.9834166838265167\n"
          ]
        }
      ]
    },
    {
      "cell_type": "markdown",
      "source": [
        "## Model Evaluation"
      ],
      "metadata": {
        "id": "g0P9zE8AKwJr"
      }
    },
    {
      "cell_type": "markdown",
      "source": [
        "### Logistic Regression"
      ],
      "metadata": {
        "id": "--7a1UyQKz4X"
      }
    },
    {
      "cell_type": "code",
      "source": [
        "model_logistic_reg_banknote = LogisticRegression(C=100,penalty = 'l1', solver= 'liblinear',max_iter=10000, random_state= 42)\n",
        "\n",
        "model_logistic_reg_banknote.fit(banknote_transformed, y_train_banknote)\n",
        "\n",
        "predictions_banknote_logistic = model_logistic_reg_banknote.predict(banknote_transformed_test)\n",
        "\n",
        "print(\"Logistic Regression Banknote Data Set: \")\n",
        "print(\"F1 Score: \", f1_score(y_test_banknote, predictions_banknote_logistic))\n",
        "print(\"Accuracy Score: \", accuracy_score(y_test_banknote, predictions_banknote_logistic))\n",
        "print(\"Precision Score: \", precision_score(y_test_banknote, predictions_banknote_logistic))\n",
        "print(\"Recall Score: \", recall_score(y_test_banknote, predictions_banknote_logistic))"
      ],
      "metadata": {
        "colab": {
          "base_uri": "https://localhost:8080/"
        },
        "id": "yEGIThNmKx06",
        "outputId": "d505f03a-79a3-4255-f9ed-4a0b20c37e83"
      },
      "execution_count": null,
      "outputs": [
        {
          "output_type": "stream",
          "name": "stdout",
          "text": [
            "Logistic Regression Banknote Data Set: \n",
            "F1 Score:  0.9787234042553192\n",
            "Accuracy Score:  0.9782608695652174\n",
            "Precision Score:  0.971830985915493\n",
            "Recall Score:  0.9857142857142858\n"
          ]
        }
      ]
    },
    {
      "cell_type": "code",
      "source": [
        "#Ploteamos la distribución del error de tu modelo\n",
        "error = predictions_banknote_logistic - y_test_banknote.values\n",
        "\n",
        "sns.set(rc={'figure.figsize':(12,6)})\n",
        "sns.distplot(error).set_title('Distribución Error')\n",
        "plt.show()"
      ],
      "metadata": {
        "colab": {
          "base_uri": "https://localhost:8080/",
          "height": 549
        },
        "id": "IOObzAzOSMby",
        "outputId": "ffd95490-67a8-4413-e345-5697ef9234b1"
      },
      "execution_count": null,
      "outputs": [
        {
          "output_type": "display_data",
          "data": {
            "text/plain": [
              "<Figure size 1200x600 with 1 Axes>"
            ],
            "image/png": "[encoded data removed]"
          },
          "metadata": {}
        }
      ]
    },
    {
      "cell_type": "markdown",
      "source": [
        "### SVM"
      ],
      "metadata": {
        "id": "JhPCoJiaNN_x"
      }
    },
    {
      "cell_type": "code",
      "source": [
        "model_svm_banknote = SVC(C= 1, gamma= 10, kernel= 'rbf', max_iter=10000)\n",
        "\n",
        "model_svm_banknote.fit(banknote_transformed, y_train_banknote)\n",
        "\n",
        "svm_predictions_banknote = model_svm_banknote.predict(banknote_transformed_test)\n",
        "\n",
        "print(\"SVM Banknote Data Set: \")\n",
        "print(\"F1 Score: \", f1_score(y_test_banknote, svm_predictions_banknote))\n",
        "print(\"Accuracy: \", accuracy_score(y_test_banknote, svm_predictions_banknote))\n",
        "print(\"Precision: \", precision_score(y_test_banknote, svm_predictions_banknote))\n",
        "print(\"recall: \", recall_score(y_test_banknote, svm_predictions_banknote))"
      ],
      "metadata": {
        "colab": {
          "base_uri": "https://localhost:8080/"
        },
        "id": "4fKf8WOFNPYm",
        "outputId": "2bbf6b89-aef8-473a-e31f-039dc53cf331"
      },
      "execution_count": null,
      "outputs": [
        {
          "output_type": "stream",
          "name": "stdout",
          "text": [
            "SVM Banknote Data Set: \n",
            "F1 Score:  1.0\n",
            "Accuracy:  1.0\n",
            "Precision:  1.0\n",
            "recall:  1.0\n"
          ]
        }
      ]
    },
    {
      "cell_type": "code",
      "source": [
        "#Ploteamos la distribución del error de tu modelo\n",
        "error = svm_predictions_banknote - y_test_banknote.values\n",
        "\n",
        "sns.set(rc={'figure.figsize':(12,6)})\n",
        "sns.distplot(error).set_title('Distribución Error')\n",
        "plt.show()"
      ],
      "metadata": {
        "colab": {
          "base_uri": "https://localhost:8080/",
          "height": 549
        },
        "id": "SSkh1tGVScS2",
        "outputId": "9409d789-156f-4019-f917-b06833fdbc7f"
      },
      "execution_count": null,
      "outputs": [
        {
          "output_type": "display_data",
          "data": {
            "text/plain": [
              "<Figure size 1200x600 with 1 Axes>"
            ],
            "image/png": "[encoded data removed]"
          },
          "metadata": {}
        }
      ]
    },
    {
      "cell_type": "markdown",
      "source": [
        "### KNN"
      ],
      "metadata": {
        "id": "hRKCSb4aOAhu"
      }
    },
    {
      "cell_type": "code",
      "source": [
        "knn_banknote = KNeighborsClassifier(metric= 'euclidean', n_neighbors= 3, weights= 'uniform')\n",
        "\n",
        "knn_banknote.fit(banknote_transformed, y_train_banknote)\n",
        "\n",
        "knn_predictions_banknote = knn_banknote.predict(banknote_transformed_test)\n",
        "\n",
        "print(\"KNN Banknote Data Set: \")\n",
        "print(\"F1 Score: \", f1_score(y_test_banknote, knn_predictions_banknote))\n",
        "print(\"Accuracy: \", accuracy_score(y_test_banknote, knn_predictions_banknote))\n",
        "print(\"Precision: \", precision_score(y_test_banknote, knn_predictions_banknote))\n",
        "print(\"recall: \", recall_score(y_test_banknote, knn_predictions_banknote))"
      ],
      "metadata": {
        "colab": {
          "base_uri": "https://localhost:8080/"
        },
        "id": "UPjOSoQEOBYO",
        "outputId": "e5ed1ad5-efc4-4d0b-c2a1-dc384683dd9b"
      },
      "execution_count": null,
      "outputs": [
        {
          "output_type": "stream",
          "name": "stdout",
          "text": [
            "KNN Banknote Data Set: \n",
            "F1 Score:  1.0\n",
            "Accuracy:  1.0\n",
            "Precision:  1.0\n",
            "recall:  1.0\n"
          ]
        }
      ]
    },
    {
      "cell_type": "code",
      "source": [
        "#Ploteamos la distribución del error de tu modelo\n",
        "error = knn_predictions_banknote - y_test_banknote.values\n",
        "\n",
        "sns.set(rc={'figure.figsize':(12,6)})\n",
        "sns.distplot(error).set_title('Distribución Error')\n",
        "plt.show()"
      ],
      "metadata": {
        "colab": {
          "base_uri": "https://localhost:8080/",
          "height": 549
        },
        "id": "ziGTkRRwSmgD",
        "outputId": "bba90f8e-315e-4333-f6d3-2f6b222d70d6"
      },
      "execution_count": null,
      "outputs": [
        {
          "output_type": "display_data",
          "data": {
            "text/plain": [
              "<Figure size 1200x600 with 1 Axes>"
            ],
            "image/png": "[encoded data removed]"
          },
          "metadata": {}
        }
      ]
    },
    {
      "cell_type": "markdown",
      "source": [
        "### Decision Tree"
      ],
      "metadata": {
        "id": "h8yKXGw5Ood2"
      }
    },
    {
      "cell_type": "code",
      "source": [
        "dt_banknote = DecisionTreeClassifier(max_depth= 20, min_samples_split= 2)\n",
        "\n",
        "dt_banknote.fit(banknote_transformed, y_train_banknote)\n",
        "\n",
        "dt_predictions_banknote = dt_banknote.predict(banknote_transformed_test)\n",
        "\n",
        "print(\"Decision Tree Banknote Data Set: \")\n",
        "print(\"F1 Score: \", f1_score(y_test_banknote, dt_predictions_banknote))\n",
        "print(\"Accuracy: \", accuracy_score(y_test_banknote, dt_predictions_banknote))\n",
        "print(\"Precision: \", precision_score(y_test_banknote, dt_predictions_banknote))\n",
        "print(\"recall: \", recall_score(y_test_banknote, dt_predictions_banknote))"
      ],
      "metadata": {
        "colab": {
          "base_uri": "https://localhost:8080/"
        },
        "id": "EU8xx7ZvOpv_",
        "outputId": "c079bff2-7710-4cdc-97ff-9fe9a9c023ed"
      },
      "execution_count": null,
      "outputs": [
        {
          "output_type": "stream",
          "name": "stdout",
          "text": [
            "Decision Tree Banknote Data Set: \n",
            "F1 Score:  0.9855072463768115\n",
            "Accuracy:  0.9855072463768116\n",
            "Precision:  1.0\n",
            "recall:  0.9714285714285714\n"
          ]
        }
      ]
    },
    {
      "cell_type": "code",
      "source": [
        "#Ploteamos la distribución del error de tu modelo\n",
        "error = dt_predictions_banknote - y_test_banknote.values\n",
        "\n",
        "sns.set(rc={'figure.figsize':(12,6)})\n",
        "sns.distplot(error).set_title('Distribución Error')\n",
        "plt.show()"
      ],
      "metadata": {
        "colab": {
          "base_uri": "https://localhost:8080/",
          "height": 549
        },
        "id": "weyJffPPSsfm",
        "outputId": "19c3c8fe-a18b-4de9-aa4c-916d9bb37bd5"
      },
      "execution_count": null,
      "outputs": [
        {
          "output_type": "display_data",
          "data": {
            "text/plain": [
              "<Figure size 1200x600 with 1 Axes>"
            ],
            "image/png": "[encoded data removed]"
          },
          "metadata": {}
        }
      ]
    },
    {
      "cell_type": "markdown",
      "source": [
        "## Evaluation of the Best Model "
      ],
      "metadata": {
        "id": "uwt6WIxxPG74"
      }
    },
    {
      "cell_type": "code",
      "source": [
        "svm_predictions_valid_banknote = model_svm_banknote.predict(banknote_transformed_valid)\n",
        "knn_predictions_valid_banknote = knn_banknote.predict(banknote_transformed_valid)\n",
        "\n",
        "print(\"SVM Banknote Data Set: \")\n",
        "print(\"F1 Score: \", f1_score(y_valid_banknote, svm_predictions_valid_banknote))\n",
        "print(\"Accuracy: \", accuracy_score(y_valid_banknote, svm_predictions_valid_banknote))\n",
        "print(\"Precision: \", precision_score(y_valid_banknote, svm_predictions_valid_banknote))\n",
        "print(\"recall: \", recall_score(y_valid_banknote, svm_predictions_valid_banknote))\n",
        "\n",
        "print(\"\\nKNN Banknote Data Set: \")\n",
        "print(\"F1 Score: \", f1_score(y_valid_banknote, knn_predictions_valid_banknote))\n",
        "print(\"Accuracy: \", accuracy_score(y_valid_banknote, knn_predictions_valid_banknote))\n",
        "print(\"Precision: \", precision_score(y_valid_banknote, knn_predictions_valid_banknote))\n",
        "print(\"recall: \", recall_score(y_valid_banknote, knn_predictions_valid_banknote))"
      ],
      "metadata": {
        "colab": {
          "base_uri": "https://localhost:8080/"
        },
        "id": "I0v0FjfhP_Ar",
        "outputId": "002f293d-7c4f-4355-aa52-33d450e04a77"
      },
      "execution_count": null,
      "outputs": [
        {
          "output_type": "stream",
          "name": "stdout",
          "text": [
            "SVM Banknote Data Set: \n",
            "F1 Score:  1.0\n",
            "Accuracy:  1.0\n",
            "Precision:  1.0\n",
            "recall:  1.0\n",
            "\n",
            "KNN Banknote Data Set: \n",
            "F1 Score:  1.0\n",
            "Accuracy:  1.0\n",
            "Precision:  1.0\n",
            "recall:  1.0\n"
          ]
        }
      ]
    },
    {
      "cell_type": "markdown",
      "source": [
        "# Occupancy"
      ],
      "metadata": {
        "id": "YaaIvsVaz3Fq"
      }
    },
    {
      "cell_type": "markdown",
      "source": [
        "## Importing  Data"
      ],
      "metadata": {
        "id": "us2ULfklz6qt"
      }
    },
    {
      "cell_type": "code",
      "source": [
        "from pathlib import Path\n",
        "import urllib.request\n",
        "import zipfile\n",
        "from datetime import datetime\n",
        "dateparse = lambda x: datetime.strptime(x, '%Y-%m-%d %H:%M:%S')\n",
        "\n",
        "def load_occupancy_data():\n",
        "    tarball_path = Path(\"datasets/occupancy_data.zip\")\n",
        "    if not tarball_path.is_file():\n",
        "        Path(\"datasets\").mkdir(parents=True, exist_ok=True)\n",
        "        url = \"https://archive.ics.uci.edu/ml/machine-learning-databases/00357/occupancy_data.zip\"\n",
        "        urllib.request.urlretrieve(url, tarball_path)\n",
        "        with zipfile.ZipFile(tarball_path) as occupancy_tarball:\n",
        "           # open the csv file in the dataset\n",
        "           occupancy_tarball.extractall(path=\"datasets\")\n",
        "    list_df =[pd.read_csv(Path(\"datasets/datatraining.txt\"),parse_dates=['date'],date_parser=dateparse),\n",
        "              pd.read_csv(Path(\"datasets/datatest.txt\"),parse_dates=['date'],date_parser=dateparse),\n",
        "              pd.read_csv(Path(\"datasets/datatest2.txt\"),parse_dates=['date'],date_parser=dateparse),]\n",
        "    return list_df\n",
        "\n",
        "occupancy_train, occupancy_test1, occupancy_test2 = load_occupancy_data()"
      ],
      "metadata": {
        "id": "-wQNGg1_z5Xy"
      },
      "execution_count": null,
      "outputs": []
    },
    {
      "cell_type": "markdown",
      "source": [
        "## Preprocessing"
      ],
      "metadata": {
        "id": "wlgCpMfg1Gvu"
      }
    },
    {
      "cell_type": "code",
      "source": [
        "occupancy_train['date_numeric'] = occupancy_train['date'].apply(lambda time: time.year+time.month/12+ time.day/365 + time.hour/8760+time.minute/525600)\n",
        "occupancy_test1['date_numeric'] = occupancy_test1['date'].apply(lambda time: time.year+time.month/12+ time.day/365 + time.hour/8760+time.minute/525600)\n",
        "occupancy_test2['date_numeric'] = occupancy_test2['date'].apply(lambda time: time.year+time.month/12+ time.day/365 + time.hour/8760+time.minute/525600)"
      ],
      "metadata": {
        "id": "pE1FRjTu9Xx2"
      },
      "execution_count": null,
      "outputs": []
    },
    {
      "cell_type": "code",
      "source": [
        "X_train_o = occupancy_train[['date_numeric', 'Temperature', 'Humidity', 'Light', \n",
        "              'CO2', 'HumidityRatio', 'Occupancy']]\n",
        "y_train_o = occupancy_train['Occupancy']\n",
        "\n",
        "X_test1_o = occupancy_test1[['date_numeric', 'Temperature', 'Humidity', 'Light', \n",
        "              'CO2', 'HumidityRatio', 'Occupancy']]\n",
        "y_test1_o = occupancy_test2['Occupancy']"
      ],
      "metadata": {
        "id": "-XDNvquU1IDG"
      },
      "execution_count": null,
      "outputs": []
    },
    {
      "cell_type": "code",
      "source": [
        "variables_occupancy = ['date_numeric', 'Temperature', 'Humidity', 'Light', \n",
        "              'CO2', 'HumidityRatio']"
      ],
      "metadata": {
        "id": "3spZSjDE1_7V"
      },
      "execution_count": null,
      "outputs": []
    },
    {
      "cell_type": "code",
      "source": [
        "#Occupancy Detection Data Set:\n",
        "scaler_occupancy = StandardScaler()\n",
        "df_occupancy_transformed = scaler_occupancy.fit_transform(occupancy_train[variables_occupancy])\n",
        "df_occupancy_transformed_test1 = scaler_occupancy.transform(occupancy_test1[variables_occupancy])\n",
        "df_occupancy_transformed_test2 = scaler_occupancy.transform(occupancy_test2[variables_occupancy])"
      ],
      "metadata": {
        "id": "4erGdUmw1q1K"
      },
      "execution_count": null,
      "outputs": []
    },
    {
      "cell_type": "markdown",
      "source": [
        "## Hyperparameter Adjustment"
      ],
      "metadata": {
        "id": "hJ7bF7jz0A8Y"
      }
    },
    {
      "cell_type": "markdown",
      "source": [
        "### Logistic Regression"
      ],
      "metadata": {
        "id": "nRZcpd880bW-"
      }
    },
    {
      "cell_type": "code",
      "source": [
        "model_logistic_reg_occupancy = LogisticRegression(max_iter=10000)\n",
        "log_grid_search_occupancy = GridSearchCV(model_logistic_reg_occupancy, hyperparameters_grid_logistic, cv=5, scoring=f1)\n",
        "log_grid_search_occupancy.fit(df_occupancy_transformed, occupancy_train[\"Occupancy\"])"
      ],
      "metadata": {
        "colab": {
          "base_uri": "https://localhost:8080/",
          "height": 210
        },
        "id": "rYK3if2k0VfB",
        "outputId": "a3669240-a207-4e1a-d872-840babec2dde"
      },
      "execution_count": null,
      "outputs": [
        {
          "output_type": "execute_result",
          "data": {
            "text/plain": [
              "GridSearchCV(cv=5, estimator=LogisticRegression(max_iter=10000),\n",
              "             param_grid={'C': [0.001, 0.01, 0.1, 1, 10, 100, 1000, 10000],\n",
              "                         'penalty': ['l2', 'l1'],\n",
              "                         'solver': ['liblinear', 'saga']},\n",
              "             scoring=make_scorer(f1_score))"
            ],
            "text/html": [
              "<style>#sk-container-id-1 {color: black;background-color: white;}#sk-container-id-1 pre{padding: 0;}#sk-container-id-1 div.sk-toggleable {background-color: white;}#sk-container-id-1 label.sk-toggleable__label {cursor: pointer;display: block;width: 100%;margin-bottom: 0;padding: 0.3em;box-sizing: border-box;text-align: center;}#sk-container-id-1 label.sk-toggleable__label-arrow:before {content: \"▸\";float: left;margin-right: 0.25em;color: #696969;}#sk-container-id-1 label.sk-toggleable__label-arrow:hover:before {color: black;}#sk-container-id-1 div.sk-estimator:hover label.sk-toggleable__label-arrow:before {color: black;}#sk-container-id-1 div.sk-toggleable__content {max-height: 0;max-width: 0;overflow: hidden;text-align: left;background-color: #f0f8ff;}#sk-container-id-1 div.sk-toggleable__content pre {margin: 0.2em;color: black;border-radius: 0.25em;background-color: #f0f8ff;}#sk-container-id-1 input.sk-toggleable__control:checked~div.sk-toggleable__content {max-height: 200px;max-width: 100%;overflow: auto;}#sk-container-id-1 input.sk-toggleable__control:checked~label.sk-toggleable__label-arrow:before {content: \"▾\";}#sk-container-id-1 div.sk-estimator input.sk-toggleable__control:checked~label.sk-toggleable__label {background-color: #d4ebff;}#sk-container-id-1 div.sk-label input.sk-toggleable__control:checked~label.sk-toggleable__label {background-color: #d4ebff;}#sk-container-id-1 input.sk-hidden--visually {border: 0;clip: rect(1px 1px 1px 1px);clip: rect(1px, 1px, 1px, 1px);height: 1px;margin: -1px;overflow: hidden;padding: 0;position: absolute;width: 1px;}#sk-container-id-1 div.sk-estimator {font-family: monospace;background-color: #f0f8ff;border: 1px dotted black;border-radius: 0.25em;box-sizing: border-box;margin-bottom: 0.5em;}#sk-container-id-1 div.sk-estimator:hover {background-color: #d4ebff;}#sk-container-id-1 div.sk-parallel-item::after {content: \"\";width: 100%;border-bottom: 1px solid gray;flex-grow: 1;}#sk-container-id-1 div.sk-label:hover label.sk-toggleable__label {background-color: #d4ebff;}#sk-container-id-1 div.sk-serial::before {content: \"\";position: absolute;border-left: 1px solid gray;box-sizing: border-box;top: 0;bottom: 0;left: 50%;z-index: 0;}#sk-container-id-1 div.sk-serial {display: flex;flex-direction: column;align-items: center;background-color: white;padding-right: 0.2em;padding-left: 0.2em;position: relative;}#sk-container-id-1 div.sk-item {position: relative;z-index: 1;}#sk-container-id-1 div.sk-parallel {display: flex;align-items: stretch;justify-content: center;background-color: white;position: relative;}#sk-container-id-1 div.sk-item::before, #sk-container-id-1 div.sk-parallel-item::before {content: \"\";position: absolute;border-left: 1px solid gray;box-sizing: border-box;top: 0;bottom: 0;left: 50%;z-index: -1;}#sk-container-id-1 div.sk-parallel-item {display: flex;flex-direction: column;z-index: 1;position: relative;background-color: white;}#sk-container-id-1 div.sk-parallel-item:first-child::after {align-self: flex-end;width: 50%;}#sk-container-id-1 div.sk-parallel-item:last-child::after {align-self: flex-start;width: 50%;}#sk-container-id-1 div.sk-parallel-item:only-child::after {width: 0;}#sk-container-id-1 div.sk-dashed-wrapped {border: 1px dashed gray;margin: 0 0.4em 0.5em 0.4em;box-sizing: border-box;padding-bottom: 0.4em;background-color: white;}#sk-container-id-1 div.sk-label label {font-family: monospace;font-weight: bold;display: inline-block;line-height: 1.2em;}#sk-container-id-1 div.sk-label-container {text-align: center;}#sk-container-id-1 div.sk-container {/* jupyter's `normalize.less` sets `[hidden] { display: none; }` but bootstrap.min.css set `[hidden] { display: none !important; }` so we also need the `!important` here to be able to override the default hidden behavior on the sphinx rendered scikit-learn.org. See: https://github.com/scikit-learn/scikit-learn/issues/21755 */display: inline-block !important;position: relative;}#sk-container-id-1 div.sk-text-repr-fallback {display: none;}</style><div id=\"sk-container-id-1\" class=\"sk-top-container\"><div class=\"sk-text-repr-fallback\"><pre>GridSearchCV(cv=5, estimator=LogisticRegression(max_iter=10000),\n",
              "             param_grid={&#x27;C&#x27;: [0.001, 0.01, 0.1, 1, 10, 100, 1000, 10000],\n",
              "                         &#x27;penalty&#x27;: [&#x27;l2&#x27;, &#x27;l1&#x27;],\n",
              "                         &#x27;solver&#x27;: [&#x27;liblinear&#x27;, &#x27;saga&#x27;]},\n",
              "             scoring=make_scorer(f1_score))</pre><b>In a Jupyter environment, please rerun this cell to show the HTML representation or trust the notebook. <br />On GitHub, the HTML representation is unable to render, please try loading this page with nbviewer.org.</b></div><div class=\"sk-container\" hidden><div class=\"sk-item sk-dashed-wrapped\"><div class=\"sk-label-container\"><div class=\"sk-label sk-toggleable\"><input class=\"sk-toggleable__control sk-hidden--visually\" id=\"sk-estimator-id-1\" type=\"checkbox\" ><label for=\"sk-estimator-id-1\" class=\"sk-toggleable__label sk-toggleable__label-arrow\">GridSearchCV</label><div class=\"sk-toggleable__content\"><pre>GridSearchCV(cv=5, estimator=LogisticRegression(max_iter=10000),\n",
              "             param_grid={&#x27;C&#x27;: [0.001, 0.01, 0.1, 1, 10, 100, 1000, 10000],\n",
              "                         &#x27;penalty&#x27;: [&#x27;l2&#x27;, &#x27;l1&#x27;],\n",
              "                         &#x27;solver&#x27;: [&#x27;liblinear&#x27;, &#x27;saga&#x27;]},\n",
              "             scoring=make_scorer(f1_score))</pre></div></div></div><div class=\"sk-parallel\"><div class=\"sk-parallel-item\"><div class=\"sk-item\"><div class=\"sk-label-container\"><div class=\"sk-label sk-toggleable\"><input class=\"sk-toggleable__control sk-hidden--visually\" id=\"sk-estimator-id-2\" type=\"checkbox\" ><label for=\"sk-estimator-id-2\" class=\"sk-toggleable__label sk-toggleable__label-arrow\">estimator: LogisticRegression</label><div class=\"sk-toggleable__content\"><pre>LogisticRegression(max_iter=10000)</pre></div></div></div><div class=\"sk-serial\"><div class=\"sk-item\"><div class=\"sk-estimator sk-toggleable\"><input class=\"sk-toggleable__control sk-hidden--visually\" id=\"sk-estimator-id-3\" type=\"checkbox\" ><label for=\"sk-estimator-id-3\" class=\"sk-toggleable__label sk-toggleable__label-arrow\">LogisticRegression</label><div class=\"sk-toggleable__content\"><pre>LogisticRegression(max_iter=10000)</pre></div></div></div></div></div></div></div></div></div></div>"
            ]
          },
          "metadata": {},
          "execution_count": 65
        }
      ]
    },
    {
      "cell_type": "code",
      "source": [
        "print(\"\\n\\t Occupancy Data Set: \")\n",
        "print(\"Best Hyperparameters: \", log_grid_search_occupancy.best_params_)\n",
        "print(\"Best F1 Score: \", log_grid_search_occupancy.best_score_)"
      ],
      "metadata": {
        "colab": {
          "base_uri": "https://localhost:8080/"
        },
        "id": "5tUDE24L2rpm",
        "outputId": "e5aed912-e30f-4e78-9a61-e99f4f7115fe"
      },
      "execution_count": null,
      "outputs": [
        {
          "output_type": "stream",
          "name": "stdout",
          "text": [
            "\n",
            "\t Occupancy Data Set: \n",
            "Best Hyperparameters:  {'C': 0.001, 'penalty': 'l1', 'solver': 'saga'}\n",
            "Best F1 Score:  0.9677440928347621\n"
          ]
        }
      ]
    },
    {
      "cell_type": "markdown",
      "source": [
        "### SVM"
      ],
      "metadata": {
        "id": "68BTlSGG2uy9"
      }
    },
    {
      "cell_type": "code",
      "source": [
        "model_svm_occupancy = SVC(max_iter=10000)\n",
        "\n",
        "svm_grid_search_occupancy = GridSearchCV(model_svm_occupancy, hyperparameters_grid_svm, cv=5, scoring=f1)\n",
        "\n",
        "svm_grid_search_occupancy.fit(df_occupancy_transformed, occupancy_train[\"Occupancy\"])\n",
        "\n",
        "print(\"\\n\\t Occupancy Data Set: \")\n",
        "print(\"Best hyperparameters: \", svm_grid_search_occupancy.best_params_)\n",
        "print(\"Best F1 Score: \", svm_grid_search_occupancy.best_score_)"
      ],
      "metadata": {
        "colab": {
          "base_uri": "https://localhost:8080/"
        },
        "id": "ekQmRAsE2wEy",
        "outputId": "366a8a92-296a-4328-91fb-deeb2e2ada16"
      },
      "execution_count": null,
      "outputs": [
        {
          "output_type": "stream",
          "name": "stdout",
          "text": [
            "\n",
            "\t Occupancy Data Set: \n",
            "Best hyperparameters:  {'C': 1, 'gamma': 0.1, 'kernel': 'rbf'}\n",
            "Best F1 Score:  0.9554811142205516\n"
          ]
        }
      ]
    },
    {
      "cell_type": "markdown",
      "source": [
        "### KNN"
      ],
      "metadata": {
        "id": "dZBTZYrl3lh9"
      }
    },
    {
      "cell_type": "code",
      "source": [
        "knn_occupancy = KNeighborsClassifier()\n",
        "\n",
        "knn_grid_search_occupancy = GridSearchCV(knn_occupancy, hyperparameters_grid_knn, cv=5, scoring=f1)\n",
        "\n",
        "knn_grid_search_occupancy.fit(df_occupancy_transformed, occupancy_train[\"Occupancy\"])\n",
        "\n",
        "print(\"\\n\\t Occupancy Data Set: \")\n",
        "print(\"Best hyperparameters: \", knn_grid_search_occupancy.best_params_)\n",
        "print(\"Best F1 Score: \", knn_grid_search_occupancy.best_score_)"
      ],
      "metadata": {
        "colab": {
          "base_uri": "https://localhost:8080/"
        },
        "id": "0k4HWJof3joj",
        "outputId": "a0c9f186-2040-47a3-a7f6-baa0c402c767"
      },
      "execution_count": null,
      "outputs": [
        {
          "output_type": "stream",
          "name": "stdout",
          "text": [
            "\n",
            "\t Occupancy Data Set: \n",
            "Best hyperparameters:  {'metric': 'euclidean', 'n_neighbors': 9, 'weights': 'uniform'}\n",
            "Best F1 Score:  0.844088395771888\n"
          ]
        }
      ]
    },
    {
      "cell_type": "markdown",
      "source": [
        "### Decission Tree"
      ],
      "metadata": {
        "id": "3QeP4yvw4KaN"
      }
    },
    {
      "cell_type": "code",
      "source": [
        "dtc_occupancy = DecisionTreeClassifier()\n",
        "\n",
        "dtc_grid_search_occupancy = GridSearchCV(dtc_occupancy, hyperparameters_grid_dt, cv=5, scoring=f1)\n",
        "\n",
        "dtc_grid_search_occupancy.fit(df_occupancy_transformed, occupancy_train[\"Occupancy\"])\n",
        "\n",
        "print(\"\\n\\tBest Hyperparameters Occupancy Data Set: \")\n",
        "print(\"Best hyperparameters: \", dtc_grid_search_occupancy.best_params_)\n",
        "print(\"Best F1 Score: \", dtc_grid_search_occupancy.best_score_)"
      ],
      "metadata": {
        "colab": {
          "base_uri": "https://localhost:8080/"
        },
        "id": "-Zi35qsu4M7n",
        "outputId": "3b5ffe1d-8891-49b2-dda4-c744cde835ea"
      },
      "execution_count": null,
      "outputs": [
        {
          "output_type": "stream",
          "name": "stdout",
          "text": [
            "\n",
            "\tBest Hyperparameters Occupancy Data Set: \n",
            "Best hyperparameters:  {'max_depth': 5, 'min_samples_split': 10}\n",
            "Best F1 Score:  0.7142175609349459\n"
          ]
        }
      ]
    },
    {
      "cell_type": "markdown",
      "source": [
        "## Model Evaluation"
      ],
      "metadata": {
        "id": "e2pgH7tk4nsj"
      }
    },
    {
      "cell_type": "markdown",
      "source": [
        "### Logistic Regression"
      ],
      "metadata": {
        "id": "XuTRZ84K4tc3"
      }
    },
    {
      "cell_type": "code",
      "source": [
        "model_logistic_reg_occupancy = LogisticRegression(max_iter=10000,C= 0.001, penalty= 'l1', solver= 'saga')\n",
        "\n",
        "model_logistic_reg_occupancy.fit(df_occupancy_transformed, occupancy_train[\"Occupancy\"])\n",
        "\n",
        "log_predictions_occupancy = model_logistic_reg_occupancy.predict(df_occupancy_transformed_test1)\n",
        "\n",
        "print(\"\\nLogistic Regression Occupancy Data Set: \")\n",
        "print(\"F1 Score: \", f1_score(occupancy_test1[\"Occupancy\"], log_predictions_occupancy))\n",
        "print(\"Accuracy Score: \", accuracy_score(occupancy_test1[\"Occupancy\"], log_predictions_occupancy))\n",
        "print(\"Precision Score: \", precision_score(occupancy_test1[\"Occupancy\"], log_predictions_occupancy))\n",
        "print(\"Recall Score: \", recall_score(occupancy_test1[\"Occupancy\"], log_predictions_occupancy))"
      ],
      "metadata": {
        "colab": {
          "base_uri": "https://localhost:8080/"
        },
        "id": "IkAmJBl24rcz",
        "outputId": "392c6070-bb20-43cc-fcc0-0c2c83eb1ed5"
      },
      "execution_count": null,
      "outputs": [
        {
          "output_type": "stream",
          "name": "stdout",
          "text": [
            "\n",
            "Logistic Regression Occupancy Data Set: \n",
            "F1 Score:  0.9714285714285715\n",
            "Accuracy Score:  0.9786116322701689\n",
            "Precision Score:  0.9472140762463344\n",
            "Recall Score:  0.9969135802469136\n"
          ]
        }
      ]
    },
    {
      "cell_type": "code",
      "source": [
        "labels = ['F1 Score', 'Accuracy', 'Precision', 'Recall']\n",
        "scores = [f1_score(occupancy_test1[\"Occupancy\"], log_predictions_occupancy), accuracy_score(occupancy_test1[\"Occupancy\"], log_predictions_occupancy), precision_score(occupancy_test1[\"Occupancy\"], log_predictions_occupancy), recall_score(occupancy_test1[\"Occupancy\"], log_predictions_occupancy)]\n",
        "\n",
        "plt.bar(labels, scores)\n",
        "plt.xlabel('Performance Metric')\n",
        "plt.ylabel('Score')\n",
        "plt.title('Performance Metrics Comparison')\n",
        "plt.ylim(0, 1)  # Set the y-axis limits between 0 and 1\n",
        "\n",
        "# Display the plot\n",
        "plt.show()"
      ],
      "metadata": {
        "colab": {
          "base_uri": "https://localhost:8080/",
          "height": 573
        },
        "id": "TC0IPWdi_wnM",
        "outputId": "1a4e5f5d-917f-43bc-c18f-83b32c803fc6"
      },
      "execution_count": null,
      "outputs": [
        {
          "output_type": "display_data",
          "data": {
            "text/plain": [
              "<Figure size 1200x600 with 1 Axes>"
            ],
            "image/png": "[encoded data removed]"
          },
          "metadata": {}
        }
      ]
    },
    {
      "cell_type": "markdown",
      "source": [
        "### SVM"
      ],
      "metadata": {
        "id": "ZOPxPwAr5z_1"
      }
    },
    {
      "cell_type": "code",
      "source": [
        "model_svm_occupancy = SVC(C= 1, gamma= 0.1, kernel= 'rbf', max_iter=10000)\n",
        "\n",
        "model_svm_occupancy.fit(df_occupancy_transformed, occupancy_train[\"Occupancy\"])\n",
        "\n",
        "svm_predictions_occupancy = model_svm_occupancy.predict(df_occupancy_transformed_test1)\n",
        "\n",
        "print(\"\\nSVM Occupancy Data Set: \")\n",
        "print(\"F1 Score: \", f1_score(occupancy_test1[\"Occupancy\"], svm_predictions_occupancy))\n",
        "print(\"Accuracy: \", accuracy_score(occupancy_test1[\"Occupancy\"], svm_predictions_occupancy))\n",
        "print(\"Precision: \", precision_score(occupancy_test1[\"Occupancy\"], svm_predictions_occupancy))\n",
        "print(\"recall: \", recall_score(occupancy_test1[\"Occupancy\"], svm_predictions_occupancy))"
      ],
      "metadata": {
        "colab": {
          "base_uri": "https://localhost:8080/"
        },
        "id": "v9tdfH1e54qY",
        "outputId": "42c7e64c-9384-415b-a72a-2f62f6fa454a"
      },
      "execution_count": null,
      "outputs": [
        {
          "output_type": "stream",
          "name": "stdout",
          "text": [
            "\n",
            "SVM Occupancy Data Set: \n",
            "F1 Score:  0.9603567888999008\n",
            "Accuracy:  0.9699812382739212\n",
            "Precision:  0.9263862332695985\n",
            "recall:  0.9969135802469136\n"
          ]
        }
      ]
    },
    {
      "cell_type": "code",
      "source": [
        "labels = ['F1 Score', 'Accuracy', 'Precision', 'Recall']\n",
        "scores = [f1_score(occupancy_test1[\"Occupancy\"], svm_predictions_occupancy), accuracy_score(occupancy_test1[\"Occupancy\"], svm_predictions_occupancy), precision_score(occupancy_test1[\"Occupancy\"], svm_predictions_occupancy), recall_score(occupancy_test1[\"Occupancy\"], svm_predictions_occupancy)]\n",
        "\n",
        "plt.bar(labels, scores)\n",
        "plt.xlabel('Performance Metric')\n",
        "plt.ylabel('Score')\n",
        "plt.title('Performance Metrics Comparison')\n",
        "plt.ylim(0, 1)  # Set the y-axis limits between 0 and 1\n",
        "\n",
        "# Display the plot\n",
        "plt.show()"
      ],
      "metadata": {
        "colab": {
          "base_uri": "https://localhost:8080/",
          "height": 573
        },
        "id": "aaIb-gqXAtXO",
        "outputId": "decf5816-6edd-4c06-87f5-f3512521a341"
      },
      "execution_count": null,
      "outputs": [
        {
          "output_type": "display_data",
          "data": {
            "text/plain": [
              "<Figure size 1200x600 with 1 Axes>"
            ],
            "image/png": "[encoded data removed]"
          },
          "metadata": {}
        }
      ]
    },
    {
      "cell_type": "markdown",
      "source": [
        "### KNN"
      ],
      "metadata": {
        "id": "YZTRTFOD6amB"
      }
    },
    {
      "cell_type": "code",
      "source": [
        "knn_occupancy = KNeighborsClassifier(metric= 'euclidean', n_neighbors= 9, weights= 'uniform')\n",
        "\n",
        "knn_occupancy.fit(df_occupancy_transformed, occupancy_train[\"Occupancy\"])\n",
        "\n",
        "knn_predictions_occupancy = knn_occupancy.predict(df_occupancy_transformed_test1)\n",
        "\n",
        "print(\"\\nKNN Occupancy Data Set: \")\n",
        "print(\"F1 Score: \", f1_score(occupancy_test1[\"Occupancy\"], knn_predictions_occupancy))\n",
        "print(\"Accuracy: \", accuracy_score(occupancy_test1[\"Occupancy\"], knn_predictions_occupancy))\n",
        "print(\"Precision: \", precision_score(occupancy_test1[\"Occupancy\"], knn_predictions_occupancy))\n",
        "print(\"recall: \", recall_score(occupancy_test1[\"Occupancy\"], knn_predictions_occupancy))"
      ],
      "metadata": {
        "colab": {
          "base_uri": "https://localhost:8080/"
        },
        "id": "I8lfwNfP6dEJ",
        "outputId": "456314ce-c63e-4d09-dd39-762e87cfa317"
      },
      "execution_count": null,
      "outputs": [
        {
          "output_type": "stream",
          "name": "stdout",
          "text": [
            "\n",
            "KNN Occupancy Data Set: \n",
            "F1 Score:  0.948125321006677\n",
            "Accuracy:  0.9621013133208255\n",
            "Precision:  0.9466666666666667\n",
            "recall:  0.9495884773662552\n"
          ]
        }
      ]
    },
    {
      "cell_type": "code",
      "source": [
        "labels = ['F1 Score', 'Accuracy', 'Precision', 'Recall']\n",
        "scores = [f1_score(occupancy_test1[\"Occupancy\"], knn_predictions_occupancy), accuracy_score(occupancy_test1[\"Occupancy\"], knn_predictions_occupancy), precision_score(occupancy_test1[\"Occupancy\"], knn_predictions_occupancy), recall_score(occupancy_test1[\"Occupancy\"], knn_predictions_occupancy)]\n",
        "\n",
        "plt.bar(labels, scores)\n",
        "plt.xlabel('Performance Metric')\n",
        "plt.ylabel('Score')\n",
        "plt.title('Performance Metrics Comparison')\n",
        "plt.ylim(0, 1)  # Set the y-axis limits between 0 and 1\n",
        "\n",
        "# Display the plot\n",
        "plt.show()"
      ],
      "metadata": {
        "colab": {
          "base_uri": "https://localhost:8080/",
          "height": 573
        },
        "id": "5wrLFUGABUqB",
        "outputId": "37333abb-e0e5-4974-9f87-5e7d6ab5d1f0"
      },
      "execution_count": null,
      "outputs": [
        {
          "output_type": "display_data",
          "data": {
            "text/plain": [
              "<Figure size 1200x600 with 1 Axes>"
            ],
            "image/png": "[encoded data removed]"
          },
          "metadata": {}
        }
      ]
    },
    {
      "cell_type": "markdown",
      "source": [
        "### Decission Tree"
      ],
      "metadata": {
        "id": "HvtMbdhK63j8"
      }
    },
    {
      "cell_type": "code",
      "source": [
        "dtc_occupancy = DecisionTreeClassifier(max_depth= 5, min_samples_split= 2)\n",
        "\n",
        "dtc_occupancy.fit(df_occupancy_transformed, occupancy_train[\"Occupancy\"])\n",
        "\n",
        "dtc_predictions_occupancy = dtc_occupancy.predict(df_occupancy_transformed_test1)\n",
        "\n",
        "print(\"\\nDecision Tree Occupancy Data Set: \")\n",
        "print(\"F1 Score: \", f1_score(occupancy_test1[\"Occupancy\"], dtc_predictions_occupancy))\n",
        "print(\"Accuracy: \", accuracy_score(occupancy_test1[\"Occupancy\"], dtc_predictions_occupancy))\n",
        "print(\"Precision: \", precision_score(occupancy_test1[\"Occupancy\"], dtc_predictions_occupancy))\n",
        "print(\"recall: \", recall_score(occupancy_test1[\"Occupancy\"], dtc_predictions_occupancy))"
      ],
      "metadata": {
        "colab": {
          "base_uri": "https://localhost:8080/"
        },
        "id": "gtATh6uh68oM",
        "outputId": "f8116a0e-8b7c-4315-87c8-224436c83b1b"
      },
      "execution_count": null,
      "outputs": [
        {
          "output_type": "stream",
          "name": "stdout",
          "text": [
            "\n",
            "Decision Tree Occupancy Data Set: \n",
            "F1 Score:  0.7626076260762606\n",
            "Accuracy:  0.8551594746716698\n",
            "Precision:  0.9480122324159022\n",
            "recall:  0.6378600823045267\n"
          ]
        }
      ]
    },
    {
      "cell_type": "code",
      "source": [
        "labels = ['F1 Score', 'Accuracy', 'Precision', 'Recall']\n",
        "scores = [f1_score(occupancy_test1[\"Occupancy\"], knn_predictions_occupancy), accuracy_score(occupancy_test1[\"Occupancy\"], knn_predictions_occupancy), precision_score(occupancy_test1[\"Occupancy\"], knn_predictions_occupancy), recall_score(occupancy_test1[\"Occupancy\"], knn_predictions_occupancy)]\n",
        "\n",
        "plt.bar(labels, scores)\n",
        "plt.xlabel('Performance Metric')\n",
        "plt.ylabel('Score')\n",
        "plt.title('Performance Metrics Comparison')\n",
        "plt.ylim(0, 1)  # Set the y-axis limits between 0 and 1\n",
        "\n",
        "# Display the plot\n",
        "plt.show()"
      ],
      "metadata": {
        "colab": {
          "base_uri": "https://localhost:8080/",
          "height": 573
        },
        "id": "qtefjypSCd_t",
        "outputId": "3e103600-8f14-4514-f227-e361fd8fe386"
      },
      "execution_count": null,
      "outputs": [
        {
          "output_type": "display_data",
          "data": {
            "text/plain": [
              "<Figure size 1200x600 with 1 Axes>"
            ],
            "image/png": "[encoded data removed]"
          },
          "metadata": {}
        }
      ]
    },
    {
      "cell_type": "markdown",
      "source": [
        "## Best Model Evaluation"
      ],
      "metadata": {
        "id": "Lnb3Yhn78M7K"
      }
    },
    {
      "cell_type": "code",
      "source": [
        "log_reg_predictions_valid_occupancy = model_logistic_reg_occupancy.predict(df_occupancy_transformed_test2)\n",
        "\n",
        "print(\"Logistic Regression Occupancy Data Set: \")\n",
        "print(\"F1 Score: \", f1_score(occupancy_test2[\"Occupancy\"], log_reg_predictions_valid_occupancy))\n",
        "print(\"Accuracy: \", accuracy_score(occupancy_test2[\"Occupancy\"], log_reg_predictions_valid_occupancy))\n",
        "print(\"Precision: \", precision_score(occupancy_test2[\"Occupancy\"], log_reg_predictions_valid_occupancy))\n",
        "print(\"recall: \", recall_score(occupancy_test2[\"Occupancy\"], log_reg_predictions_valid_occupancy))"
      ],
      "metadata": {
        "colab": {
          "base_uri": "https://localhost:8080/"
        },
        "id": "5Qb5PUDg8RJ-",
        "outputId": "db5b9f7d-850c-49da-871f-0748b0783010"
      },
      "execution_count": null,
      "outputs": [
        {
          "output_type": "stream",
          "name": "stdout",
          "text": [
            "Logistic Regression Occupancy Data Set: \n",
            "F1 Score:  0.9840579710144928\n",
            "Accuracy:  0.9932321575061526\n",
            "Precision:  0.9741750358680057\n",
            "recall:  0.9941434846266471\n"
          ]
        }
      ]
    },
    {
      "cell_type": "code",
      "source": [
        "labels = ['F1 Score', 'Accuracy', 'Precision', 'Recall']\n",
        "scores = [f1_score(occupancy_test1[\"Occupancy\"], knn_predictions_occupancy), accuracy_score(occupancy_test1[\"Occupancy\"], knn_predictions_occupancy), precision_score(occupancy_test1[\"Occupancy\"], knn_predictions_occupancy), recall_score(occupancy_test1[\"Occupancy\"], knn_predictions_occupancy)]\n",
        "\n",
        "plt.bar(labels, scores)\n",
        "plt.xlabel('Performance Metric')\n",
        "plt.ylabel('Score')\n",
        "plt.title('Performance Metrics Comparison')\n",
        "plt.ylim(0, 1)  # Set the y-axis limits between 0 and 1\n",
        "\n",
        "# Display the plot\n",
        "plt.show()"
      ],
      "metadata": {
        "colab": {
          "base_uri": "https://localhost:8080/",
          "height": 521
        },
        "id": "QP77rET7DzuM",
        "outputId": "59f4a72f-c044-4f9f-cb4b-5a9650fc30cc"
      },
      "execution_count": null,
      "outputs": [
        {
          "output_type": "display_data",
          "data": {
            "text/plain": [
              "<Figure size 1200x600 with 1 Axes>"
            ],
            "image/png": "[encoded data removed]"
          },
          "metadata": {}
        }
      ]
    },
    {
      "cell_type": "markdown",
      "source": [
        "# References"
      ],
      "metadata": {
        "id": "7e6JIthvvqvO"
      }
    },
    {
      "cell_type": "markdown",
      "source": [
        "1. scikit-learn. (n.d.). sklearn.metrics.f1_score. Retrieved from https://scikit-learn.org/stable/modules/generated/sklearn.metrics.f1_score.html\n",
        "2. scikit-learn. (n.d.). Cross-validation: evaluating estimator performance. Retrieved from https://scikit-learn.org/stable/modules/cross_validation.html\n",
        "3. Raschka, S., & Mirjalili, V. (2020). Python machine learning (3rd ed.). Packt Publishing. "
      ],
      "metadata": {
        "id": "52nsIVWBvs64"
      }
    }
  ]
}
