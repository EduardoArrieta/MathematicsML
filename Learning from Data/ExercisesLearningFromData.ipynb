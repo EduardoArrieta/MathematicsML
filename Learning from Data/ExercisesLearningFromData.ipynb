{
  "nbformat": 4,
  "nbformat_minor": 0,
  "metadata": {
    "colab": {
      "provenance": []
    },
    "kernelspec": {
      "name": "python3",
      "display_name": "Python 3"
    },
    "language_info": {
      "name": "python"
    }
  },
  "cells": [
    {
      "cell_type": "markdown",
      "source": [
        "#Libraries"
      ],
      "metadata": {
        "id": "dJ20w9EOL7xX"
      }
    },
    {
      "cell_type": "code",
      "source": [
        "import pandas as pd\n",
        "import numpy as np\n",
        "import sklearn\n",
        "import matplotlib.pyplot as plt\n",
        "from scipy.optimize import minimize\n",
        "import math\n",
        "from sklearn.preprocessing import normalize\n",
        "from functools import partial\n",
        "\n",
        "%matplotlib inline"
      ],
      "metadata": {
        "id": "WBQLm1JDL-Ue"
      },
      "execution_count": 1,
      "outputs": []
    },
    {
      "cell_type": "markdown",
      "source": [
        "# Exercise 1.2"
      ],
      "metadata": {
        "id": "cnUmvPJ0Lsax"
      }
    },
    {
      "cell_type": "markdown",
      "source": [
        "Suppose that we use a perceptron to detect spam messages. Let's say that each email message is represented by the frequency of occurrence of keywords, and the output is +1 if the message is considered spam. \n",
        "\n",
        "\n",
        "*   (a) Can you think of some keywords that wil end up with a large positive weight in the perceptron?\n",
        "*   (b) How about keywords that will get a negative weight?\n",
        "*   (c) What parameter in the perceptron directly affects how many borderline messages end up being classified as spam? \n",
        "\n"
      ],
      "metadata": {
        "id": "Eq3GEYKIM-Tn"
      }
    },
    {
      "cell_type": "markdown",
      "source": [
        "## Solution"
      ],
      "metadata": {
        "id": "0Xpxfh6xNxpa"
      }
    },
    {
      "cell_type": "markdown",
      "source": [
        "\n",
        "\n",
        "*   (a) Save, promotion, shipping, free, order now\n",
        "*   (b) Regards, hence, dear, nevertheless\n",
        "*   (c) Recall that a perceptron, in its functional form $h(x)$, is defined as \n",
        "\n",
        "\\begin{align*}\n",
        "  h(x) = sign \\left( \\left( \\sum_{i = 1}^{d} w_i x_i \\right) + b \\right)\n",
        "\\end{align*}\n",
        "\n",
        "where $x_i$ are components of the input vector $x$, and $w_i$ are the weights that reflect the importance of each component in the decision i.e. its relevance in the threshold value. The former is determined by the bias term $b$. As one may infer from the above equation, the parameter that affects how many borderline messages end up being classified as spam is the bias $b$, since, in order to have a positive/negative value one must analize equations such as\n",
        "\n",
        "\\begin{align*}\n",
        "  \\sum_{i = 1}^{d} w_i x_i > - b\n",
        "\\end{align*}"
      ],
      "metadata": {
        "id": "Gx-_VT6rN1jR"
      }
    },
    {
      "cell_type": "markdown",
      "source": [
        "# Exercise 1.3"
      ],
      "metadata": {
        "id": "Bc-fqVbwTgsc"
      }
    },
    {
      "cell_type": "markdown",
      "source": [
        "The weight update rule in (1.3 - the following equation) \n",
        "\n",
        "\\begin{align*}\n",
        "  w(t + 1) = w(t) + y(t)x(t)\n",
        "\\end{align*}\n",
        "\n",
        "has the nice interpretation that it moves in the direction of classifying $x(t)$ correctly.\n",
        "\n",
        "*   (a) Show that \n",
        "\n",
        "\\begin{align*}\n",
        "  y(t)w(t)^{T}x(t) < 0\n",
        "\\end{align*}\n",
        "\n",
        "*   (b) Show that\n",
        "\n",
        "\\begin{align*}\n",
        "  y(t) w^{T}(t + 1) x(t) > y(t) w^{T}(t) x(t)\n",
        "\\end{align*}\n",
        "\n",
        "*   (c) As far as classifying $x(t)$ is concerned, argue that the move from $w(t)$ to $w(t + 1)$ is a move 'in the right direction'.\n",
        "\n"
      ],
      "metadata": {
        "id": "-vf-ZV8zTjbD"
      }
    },
    {
      "cell_type": "markdown",
      "source": [
        "## Solution"
      ],
      "metadata": {
        "id": "JOEo4nCiVNPE"
      }
    },
    {
      "cell_type": "markdown",
      "source": [
        "\n",
        "\n",
        "*   (a) Having in mind that a missclassification in a PLA implies that $y(t) \\neq sign( w^{T}(t) x(t) )$, and that $y(t)$ is the vector of all the $h(x_i)$, it is easy to see that $y(t)w^{T}(t) x(t) < 0$ since they both have different signs.\n",
        "\n",
        "*   (b) Using (1.3) we will have that\n",
        "\n",
        "\\begin{align*}\n",
        "  y(t)w^{T}(t + 1)x(t) = y(t) (w(t) + y(t)x(t))^{T} x(t)\n",
        "\\end{align*}\n",
        "\n",
        "Then, \n",
        "\n",
        "\\begin{align*}\n",
        "  y(t) (w(t) + y(t)x(t))^{T} x(t) &= y(t) (w^{T}(t) + y(t) x^{T}(t)) x(t) \\\\\n",
        "  &= y(t) w^{T}(t) x(t) + y(t) y(t) x^{T}(t) x(t)\n",
        "\\end{align*}\n",
        "\n",
        "Since $y(t) y(t) x^{T}(t) x(t) > 0$ we get\n",
        "\n",
        "\\begin{align*}\n",
        "  y(t) (w(t) + y(t)x(t))^{T} x(t) &= y(t) (w^{T}(t) + y(t) x^{T}(t)) x(t) \\\\\n",
        "  &= y(t) w^{T}(t) x(t) + y(t) y(t) x^{T}(t) x(t) \\\\\n",
        "  &> y(t) w^{T}(t) x(t)\n",
        "\\end{align*}\n",
        "\n",
        "That is\n",
        "\n",
        "\\begin{align*}\n",
        "  y(t) w^{T}(t + 1) x(t) > y(t) w^{T}(t) x(t)\n",
        "\\end{align*}\n",
        "\n",
        "As desired.\n",
        "\n",
        "*   (c) The previous exercise tell us that, somehow, in each step the target gets 'more positive', since every time that $y(t)$ and $w^{T}(t) x(t)$ have different signs, $w^{T}(t) x(t)$ moves further into its region. Therefore, when moving from $w(t)$ to $w(t + 1)$ we are doing it 'in the right direction' because each steps push the value to its correct region. \n",
        "\n"
      ],
      "metadata": {
        "id": "Yxzvb4MIVRFl"
      }
    },
    {
      "cell_type": "markdown",
      "source": [
        "# Exercie 1.10"
      ],
      "metadata": {
        "id": "GSDxXxt7cQNd"
      }
    },
    {
      "cell_type": "markdown",
      "source": [
        "Here is an experiment that illustrates the difference between a single bin and multiple bins. Run a computer simulation for flipping 1 000 fair coins. Flip each coin independently 10 times. Let's focus on 3 coins as follows: $c_{1}$ is the first coin flipped; $c_{rand}$ is a coin you choose at random; $c_{min}$ is the coin that had the minimum frequency of heads (pick the earlier one in case of a tie). Let $v_1$, $v_{rand}$ and $v_{min}$ be the fraction of heads you obtain for the respective three coins. \n",
        "\n",
        "\n",
        "\n",
        "*   (a) What is $\\mu$ for the three coins selected?\n",
        "*   (b) Repeat this entire experiment a large number of times (e.g., 100 000 runs of the entire experiment) to get several instances of $v_1$, $v_{rand}$ and $v_{min}$ and plot the histograms of the distributions of $v_1$, $v_{rand}$ and $v_{min}$. Notice that which coins end up being $c_{rand}$ and $c_min$ may differ from one run to another\n",
        "*   (c) Using (b), plot estimates for $\\mathbb{P}[ |v - \\mu| > \\varepsilon]$ as a function of $ɛ$, together with the Hoeffding bound $2e^{-2 \\varepsilon^2 N}$ (on the same graph).\n",
        "*   (d) Which coins obey the Hoeffding bound, and which ones do not? Explain why.\n",
        "*   (e) Relate part (d) to the multiple bins in Figure 1.10."
      ],
      "metadata": {
        "id": "myKnERrBcaE6"
      }
    },
    {
      "cell_type": "markdown",
      "source": [
        "## Solution "
      ],
      "metadata": {
        "id": "Yo0bQXn6fVxq"
      }
    },
    {
      "cell_type": "markdown",
      "source": [
        "Throughout this exercise we will be using the following functions"
      ],
      "metadata": {
        "id": "AxCO04Y1gggb"
      }
    },
    {
      "cell_type": "code",
      "execution_count": 2,
      "metadata": {
        "id": "2IoYlgUpLmNS"
      },
      "outputs": [],
      "source": [
        "def run_once(total_coins, total_flips, print_freq = False): # As arguments we wil admit the total number of coins and flips, and a boolean value for determing whether or not print de frequency\n",
        "    v1, vrand, vmin = None, None, None\n",
        "    crand = np.random.choice(total_coins) #We pick a coin at random\n",
        "    hts_sum = np.zeros(total_coins) \n",
        "    \n",
        "    for flip in range(total_flips): #Here we are 'flippling' the coins the respective number of times\n",
        "        hts_sum = hts_sum + flip_coins(total_coins) #Store the sum of heads in total_flips\n",
        "    \n",
        "    hts_freq = hts_sum/total_flips #Calculate the frequency\n",
        "    \n",
        "    v1 = hts_freq[0] #Here we compute the ratios and find c_min\n",
        "    vrand = hts_freq[crand]\n",
        "    cmin = np.argmin(hts_sum)\n",
        "    vmin = hts_freq[cmin]\n",
        "    \n",
        "    if print_freq:\n",
        "        print('Frequency of first coin: {}'.format(v1))\n",
        "        print('Frequency of a random coin: id({})-freq({})'.format(crand, vrand))\n",
        "        print('Frequency of the coin with minimum frequency: id({})-freq({})'.format(cmin, vmin))\n",
        "    return v1,vrand,vmin"
      ]
    },
    {
      "cell_type": "code",
      "source": [
        "def flip_coins(total_coins):\n",
        "    \"\"\"Flip all coins once, return their head/tail status\n",
        "    \"\"\"\n",
        "    \n",
        "    hts = np.zeros(total_coins) #head: 1, tail: 0\n",
        "    probs = np.random.uniform(size=total_coins)\n",
        "    hts[probs > 0.5] = 1\n",
        "    return hts"
      ],
      "metadata": {
        "id": "TzOwB5Inj3Ll"
      },
      "execution_count": 3,
      "outputs": []
    },
    {
      "cell_type": "code",
      "source": [
        "def hoeffding_bound(epsilon, n):\n",
        "    return 2.0*np.exp(-2.0*n*epsilon**2)"
      ],
      "metadata": {
        "id": "KicMAZPHj-dY"
      },
      "execution_count": 4,
      "outputs": []
    },
    {
      "cell_type": "markdown",
      "source": [
        "\n",
        "\n",
        "*   (a) The coins are fair, therefore $\\mu = 0.5$"
      ],
      "metadata": {
        "id": "rCCerzUQfX0H"
      }
    },
    {
      "cell_type": "code",
      "source": [
        "total_coins = 1000\n",
        "total_flips = 10\n",
        "run_once(total_coins, total_flips, True)"
      ],
      "metadata": {
        "colab": {
          "base_uri": "https://localhost:8080/"
        },
        "id": "wZ90gSkainke",
        "outputId": "13a689e8-0553-45a5-f9ab-68411ffc4123"
      },
      "execution_count": 5,
      "outputs": [
        {
          "output_type": "stream",
          "name": "stdout",
          "text": [
            "Frequency of first coin: 0.5\n",
            "Frequency of a random coin: id(746)-freq(0.3)\n",
            "Frequency of the coin with minimum frequency: id(141)-freq(0.0)\n"
          ]
        },
        {
          "output_type": "execute_result",
          "data": {
            "text/plain": [
              "(0.5, 0.3, 0.0)"
            ]
          },
          "metadata": {},
          "execution_count": 5
        }
      ]
    },
    {
      "cell_type": "markdown",
      "source": [
        "*   (b) Repeating the experiment the requested number of times we will get"
      ],
      "metadata": {
        "id": "Xdw9Q1xni675"
      }
    },
    {
      "cell_type": "code",
      "source": [
        "total_coins = 1000\n",
        "total_flips = 10\n",
        "total_runs = 1000000\n",
        "v1s, vrands, vmins = [],[],[]\n",
        "for run in range(total_runs):\n",
        "    v1,vrand,vmin = run_once(total_coins, total_flips)\n",
        "    v1s.append(v1)\n",
        "    vrands.append(vrand)\n",
        "    vmins.append(vmin)\n",
        "\n",
        "fig, axs = plt.subplots(1,3,sharey=True, tight_layout=True)\n",
        "n_bins = 10\n",
        "axs[0].hist(v1s,bins=n_bins)\n",
        "axs[1].hist(vrands,bins=n_bins)\n",
        "axs[2].hist(vmins,bins=n_bins)"
      ],
      "metadata": {
        "colab": {
          "base_uri": "https://localhost:8080/",
          "height": 560
        },
        "id": "Lm8bLlKVjGUf",
        "outputId": "5283eee5-c324-47c0-adb5-e235a89eb9ab"
      },
      "execution_count": 6,
      "outputs": [
        {
          "output_type": "execute_result",
          "data": {
            "text/plain": [
              "(array([6.24134e+05, 0.00000e+00, 0.00000e+00, 0.00000e+00, 0.00000e+00,\n",
              "        3.75840e+05, 0.00000e+00, 0.00000e+00, 0.00000e+00, 2.60000e+01]),\n",
              " array([0.  , 0.02, 0.04, 0.06, 0.08, 0.1 , 0.12, 0.14, 0.16, 0.18, 0.2 ]),\n",
              " <BarContainer object of 10 artists>)"
            ]
          },
          "metadata": {},
          "execution_count": 6
        },
        {
          "output_type": "display_data",
          "data": {
            "text/plain": [
              "<Figure size 640x480 with 3 Axes>"
            ],
            "image/png": "[encoded data removed]"
          },
          "metadata": {}
        }
      ]
    },
    {
      "cell_type": "markdown",
      "source": [
        "*   (c) Let's estimate both bounds"
      ],
      "metadata": {
        "id": "7a1oA5tFjY-A"
      }
    },
    {
      "cell_type": "code",
      "source": [
        "eps = np.arange(0.0,0.5,0.05)\n",
        "bounds = hoeffding_bound(eps, total_flips)\n",
        "v1s, vrands, vmins = np.array(v1s), np.array(vrands), np.array(vmins)\n",
        "v1d = np.abs(v1s-0.5)\n",
        "vrandd = np.abs(vrands-0.5)\n",
        "vmind = np.abs(vmins-0.5)\n",
        "\n",
        "p1, prand, pmin = np.zeros(len(eps)),np.zeros(len(eps)),np.zeros(len(eps))\n",
        "\n",
        "for idx in range(eps.shape[0]):\n",
        "    ep = eps[idx]\n",
        "    p1[idx] = np.sum(v1d > ep)/total_runs\n",
        "    prand[idx] = np.sum(vrandd > ep)/total_runs\n",
        "    pmin[idx] = np.sum(vmind > ep)/total_runs\n",
        "\n",
        "#plt.ylim((0,0.01))    \n",
        "plt.plot(eps, bounds, marker='o', markerfacecolor='blue', markersize=8, color='skyblue', label='Hoeffding Bound')\n",
        "plt.plot(eps, p1, marker='', color='r', linewidth=1, label='First Coin')\n",
        "plt.plot(eps, prand, marker='', color='g', linewidth=1, linestyle='dashed', label='Random Coin')\n",
        "plt.plot(eps, pmin, marker='', color='y', linewidth=1, linestyle='dashed', label='Coin with Minimum Freq')\n",
        "plt.legend()"
      ],
      "metadata": {
        "colab": {
          "base_uri": "https://localhost:8080/",
          "height": 448
        },
        "id": "VYiQdSQojiXF",
        "outputId": "1064a38c-229e-4a63-9f8c-653b04cc9da6"
      },
      "execution_count": 7,
      "outputs": [
        {
          "output_type": "execute_result",
          "data": {
            "text/plain": [
              "<matplotlib.legend.Legend at 0x7fd90fe02440>"
            ]
          },
          "metadata": {},
          "execution_count": 7
        },
        {
          "output_type": "display_data",
          "data": {
            "text/plain": [
              "<Figure size 640x480 with 1 Axes>"
            ],
            "image/png": "[encoded data removed]"
          },
          "metadata": {}
        }
      ]
    },
    {
      "cell_type": "markdown",
      "source": [
        "*   (d) It is clear from the graphs that the first and the random coin are the ones that obey the Hoeffding bound. Also, we can see that the coin which does not obey Hoeffding bound. Recall that the Hoeffding inequality says that the hypothesis $h$ has been fixed before samples were drawn but, since the first twon coins were chosed before the experiment while for the last coin we have to flip them all first in order to compute the coin with minimum frequency of heads. "
      ],
      "metadata": {
        "id": "631l5S3DkRhW"
      }
    },
    {
      "cell_type": "markdown",
      "source": [
        "*   (e) As commented above, the first two coins are choosing the bins before, while finding the coin with minimum frequency is choosing the bin after the samplinf data."
      ],
      "metadata": {
        "id": "lTXcpdu7m1B5"
      }
    },
    {
      "cell_type": "markdown",
      "source": [
        "# Exercise 1.11"
      ],
      "metadata": {
        "id": "CbsJu_DKn8N9"
      }
    },
    {
      "cell_type": "markdown",
      "source": [
        "We are given a data set $\\mathcal{D}$ of 25 training examples from an unknown target function $f: \\mathcal{X} \\rightarrow \\mathcal{Y}$, where $\\mathcal{X}=\\mathbb{R}$ and $\\mathcal{Y}=\\{-1,+1\\}$. To learn $f$, we use a simple hypothesis set $\\mathcal{H}=\\left\\{h_1, h_2\\right\\}$ where $h_1$ is the constant +1 function and $h_2$ is the constant -1 .\n",
        "\n",
        "We consider two learning algorithms, S (smart) and C (crazy). S chooses the hypothesis that agrees the most with $\\mathcal{D}$ and $C$ chooses the other hypothesis deliberately. Let us see how these algorithms perform out of sample from the deterministic and probabilistic points of view. Assume in the probabilistic view that there is a probability distribution on $\\mathcal{X}$, and let $\\mathbb{P}[f(\\mathbf{x})=+1]=p$.\n",
        "\n",
        "* (a) Can S produce a hypothesis that is guaranteed to perform better than random on any point outside $\\mathcal{D}$ ?\n",
        "\n",
        "* (b) Assume for the rest of the exercise that all the examples in $\\mathcal{D}$ have $y_n=+1$. Is it possible that the hypothesis that $\\mathrm{C}$ produces turns out to be better than the hypothesis that $\\mathrm{S}$ produces?\n",
        "\n",
        "* (c) If $p=0.9$, what is the probability that $S$ will produce a better hypothesis than $\\mathrm{C}$ ?\n",
        "\n",
        "* (d) Is there any value of $p$ for which it is more likely than not that $C$ will produce a better hypothesis than $S$ ?"
      ],
      "metadata": {
        "id": "5oStWSipn-YI"
      }
    },
    {
      "cell_type": "markdown",
      "source": [
        "## Solution"
      ],
      "metadata": {
        "id": "4-i-N4F0ooQA"
      }
    },
    {
      "cell_type": "markdown",
      "source": [
        "*   (a) A random function will have $+1$ and $-1$ half the times. $\\mathcal{S}$ cannot guarantee to perform any better on random points outside $\\mathcal{D}$ since $\\mathcal{S}$ will choose the hypothesis $h_1$, which will not match $f$ outside $\\mathcal{D}$. Therefore, it will be better to have a random function than $\\mathcal{S}$.\n",
        "*   (b) Yes. Consider $f$ having 25 $+1$ on $\\mathcal{D}$ on all other points in $\\mathcal{X}$.\n",
        "*   (c) Outside $\\mathcal{D}$ $h_1$ will have 90% probability to match with $f$ while $h_2$ will have only 10% chance. \n",
        "*   (d) As seen above we can infer that when $p < 0.5$ $\\mathcal{C}$ will produce a better hypothesis tha $\\mathcal{S}$ since it will match better $f$ (because it produces $h_2$ most of the times)"
      ],
      "metadata": {
        "id": "1xRFUxmZozaa"
      }
    },
    {
      "cell_type": "markdown",
      "source": [
        "# Exercise 1.12"
      ],
      "metadata": {
        "id": "bTJxPRadtAbD"
      }
    },
    {
      "cell_type": "markdown",
      "source": [
        "A friend comes to you with a learning problem. She says the target function $f$ is completely unknown, but she has 4,000 data points. She is willing to pay you to solve her problem and produce for her a $g$ which approximates $f$. What is the best that you can promise her among the following:\n",
        "\n",
        "*   (a) After learning you will provide her with a $g$ that you will guarantee approximates $f$ well out of sample.\n",
        "\n",
        "*   (b) After learning you will provide her with a $g$, and with high probability the $g$ which you produce will approximate $f$ well out of sample.\n",
        "\n",
        "*   (c) One of two things will happen.\n",
        "(i) You will produce a hypothesis $g$;\n",
        "(ii) You will declare that you failed.\n",
        "If you do return a hypothesis $g$, then with high probability the $g$ which you produce will approximate $f$ well out of sample."
      ],
      "metadata": {
        "id": "SxjTYWRZtD0P"
      }
    },
    {
      "cell_type": "markdown",
      "source": [
        "## Solution"
      ],
      "metadata": {
        "id": "M4ooH7zrtSVy"
      }
    },
    {
      "cell_type": "markdown",
      "source": [
        "Her best option is (c). In view of the fact that $f$ can be very complex, and, that if we can learn and no produce a hypothesis $g$ the probability of $g$ matching $f$ is high due to the Hoeffding bound. The error on $g$ might be small since the dataset is large."
      ],
      "metadata": {
        "id": "npswWPkitUfn"
      }
    },
    {
      "cell_type": "markdown",
      "source": [
        "# References"
      ],
      "metadata": {
        "id": "75bDlshLwpA2"
      }
    },
    {
      "cell_type": "markdown",
      "source": [
        "1. Neil Z. (2020). Learning-From-Data-A-Short-Course. Source: https://github.com/niuers/Learning-From-Data-A-Short-Course/blob/master/Solutions%20to%20Chapter%201%20The%20Learning%20Problem.ipynb \n",
        "2. Abu-Mostafa, Y. S., Magdon-Ismail, M., & Lin, H. T. (2012). Learning from data. New York: AMLBook."
      ],
      "metadata": {
        "id": "WgsBRN2fwrFA"
      }
    }
  ]
}
